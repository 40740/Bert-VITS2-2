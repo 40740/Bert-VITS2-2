{
 "cells": [
  {
   "cell_type": "markdown",
   "metadata": {},
   "source": [
    "### 前言\n",
    "\n",
    "#### 结构介绍\n",
    "\n",
    "config文件夹中应当由一个config_template.json文件用于储存模板。"
   ]
  },
  {
   "cell_type": "code",
   "execution_count": null,
   "metadata": {},
   "outputs": [],
   "source": [
    "# ! git clone https://github.com/bwnotfound/Bert-VITS2.git\n",
    "# ! cd Bert-VITS2"
   ]
  },
  {
   "cell_type": "markdown",
   "metadata": {},
   "source": [
    "### Step 1\n",
    "安装环境"
   ]
  },
  {
   "cell_type": "code",
   "execution_count": null,
   "metadata": {},
   "outputs": [],
   "source": [
    "\n",
    "! pip install -r requirements.txt\n",
    "%cd monotonic_align\n",
    "! mkdir monotonic_align\n",
    "%run setup.py build_ext --inplace\n",
    "%cd .."
   ]
  },
  {
   "cell_type": "markdown",
   "metadata": {},
   "source": [
    "### Step 2\n",
    "\n",
    "数据集预处理\n",
    "\n",
    "请把数据集按照下面的格式放到dataset_raw文件夹下\n",
    "\n",
    "```\n",
    "dataset_raw\n",
    "├───Character_name_1\n",
    "├   ├───xxx.wav\n",
    "├   ├───...\n",
    "├   └───zzz.wav\n",
    "├───Character_name_2\n",
    "├   ├───xxx.wav\n",
    "├   ├───...\n",
    "├   └───zzz.wav\n",
    "├───...\n",
    "├\n",
    "└───Character_name_n\n",
    "    ├───xxx.wav\n",
    "    ├───...\n",
    "    └───zzz.wav\n",
    "```\n",
    "\n",
    "然后理解并按需运行下面的代码。"
   ]
  },
  {
   "cell_type": "markdown",
   "metadata": {},
   "source": [
    "#### STEP 2.1\n",
    "\n",
    "音频预处理\n",
    "\n",
    "运行resample.py后会将dataset_raw文件夹下的音频文件转换成对应采样率的wav文件，并保存到dataset文件夹下。（和so-vits-svc的resample用法一样）\n",
    "\n",
    "默认是响度匹配的。建议用其他软件处理完后直接放到dataset文件夹中\n",
    "\n",
    "PS: 如果需要其他采样率，请加上类似```--sr 44100```的命令"
   ]
  },
  {
   "cell_type": "code",
   "execution_count": null,
   "metadata": {},
   "outputs": [],
   "source": [
    "%run resample.py"
   ]
  },
  {
   "cell_type": "markdown",
   "metadata": {},
   "source": [
    "#### STEP 2.2\n",
    "\n",
    "语音转文字\n",
    "\n",
    "该步骤适用于哪些没有文字标注的数据集，将使用whisper对齐文字。如果你有对应的文字标注，可以跳过这一步。\n",
    "\n",
    "有哪些模型可以看annotate_wav.py源代码注释部分，使用例如```-o small```来选择模型大小。\n",
    "\n",
    "语言选择上，一共有三种选项```C CJ CJE```，分别表示接受识别哪些语言，例如```CJE```就接受识别中文、日文、英文，然后排除其他的识别结果。默认```CJE```\n",
    "\n",
    "默认是覆盖已有的annotation文件，如果不希望覆盖可以使用```-o False```\n",
    "\n",
    "PS: 如果要跳过这一步，请把你的标注文件放到annotations文件夹下，文件名格式为```anno_{speaker_name}.txt```，例如```anno_niko.txt```\n",
    "\n",
    "生成的文字标注格式为```{音频相对路径}|{说话人}|{语言类型}|{文字}```，例如```./dataset/niko/0001.wav|niko|EN|niko, hello~```\n"
   ]
  },
  {
   "cell_type": "code",
   "execution_count": null,
   "metadata": {},
   "outputs": [],
   "source": [
    "# 这一步可能会在下载whisper模型出现过慢的问题，可以先把whiper模型下好放到download文件夹下，这样会更快一些\n",
    "%run annotate_wav.py"
   ]
  },
  {
   "cell_type": "markdown",
   "metadata": {},
   "source": [
    "#### STEP 2.3\n",
    "\n",
    "整合annotation，生成训练集和测试集文件\n",
    "\n",
    "这一步会将config_template.json转换为config.json"
   ]
  },
  {
   "cell_type": "code",
   "execution_count": null,
   "metadata": {},
   "outputs": [],
   "source": [
    "%run preprocess_text.py"
   ]
  },
  {
   "cell_type": "markdown",
   "metadata": {},
   "source": [
    "#### STEP 2.4\n",
    "\n",
    "为对应音频文件生成bert.pt文件\n",
    "\n",
    "bert/chinese-roberta-wwm-ext-large文件夹中缺少了pytorch_model.bin文件，需要到hugging face自行下载。"
   ]
  },
  {
   "cell_type": "code",
   "execution_count": null,
   "metadata": {},
   "outputs": [],
   "source": [
    "%run spec_gen.py"
   ]
  },
  {
   "cell_type": "markdown",
   "metadata": {},
   "source": [
    "#### STEP 3\n",
    "\n",
    "训练"
   ]
  },
  {
   "cell_type": "code",
   "execution_count": null,
   "metadata": {},
   "outputs": [],
   "source": [
    "# 这一步暂未详细测试，可能会有bug\n",
    "\n",
    "! python train_ms.py"
   ]
  },
  {
   "cell_type": "markdown",
   "metadata": {},
   "source": [
    "#### STEP 4\n",
    "\n",
    "推理"
   ]
  },
  {
   "cell_type": "code",
   "execution_count": null,
   "metadata": {},
   "outputs": [],
   "source": [
    "# 这一步暂未详细测试，可能会有bug\n",
    "\n",
    "! python inference_webui.py"
   ]
  }
 ],
 "metadata": {
  "kernelspec": {
   "display_name": ".venv",
   "language": "python",
   "name": "python3"
  },
  "language_info": {
   "codemirror_mode": {
    "name": "ipython",
    "version": 3
   },
   "file_extension": ".py",
   "mimetype": "text/x-python",
   "name": "python",
   "nbconvert_exporter": "python",
   "pygments_lexer": "ipython3",
   "version": "3.10.6"
  },
  "orig_nbformat": 4
 },
 "nbformat": 4,
 "nbformat_minor": 2
}
